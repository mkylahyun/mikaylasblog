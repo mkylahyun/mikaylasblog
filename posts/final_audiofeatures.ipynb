{
 "cells": [
  {
   "cell_type": "markdown",
   "id": "860fbdef",
   "metadata": {},
   "source": [
    "## Description of data\n",
    "\n",
    "I will be using Spotify's API data to address people's preference on happier or sadder music across the globe, and whether music influences people's mental health. \n",
    "\n",
    "**[Spotify API data](https://developer.spotify.com/dashboard/login)**\n",
    "This data provides information on music artists, tracks, audio features, and various song attributes from the Spotify Data Catalouge.  My motivation for looking at this data is to see what songs are most globally popular, and what the audio features of these popular songs are like. \n",
    "\n"
   ]
  },
  {
   "cell_type": "markdown",
   "id": "3b29e45e",
   "metadata": {},
   "source": [
    "## Exploring the data\n",
    "\n",
    "Since we are getting data from the web, Spotify's API, I went to https://developer.spotify.com/dashboard/login and got my credentials to access the data."
   ]
  },
  {
   "cell_type": "code",
   "execution_count": 1,
   "id": "a2cf053a",
   "metadata": {},
   "outputs": [],
   "source": [
    "import spotipy\n",
    "from spotipy.oauth2 import SpotifyClientCredentials\n",
    "import spotify_key\n",
    "sp = spotipy.Spotify(auth_manager=SpotifyClientCredentials(client_id=spotify_key.CLIENT_ID,\n",
    "                                                           client_secret=spotify_key.CLIENT_SECRET))"
   ]
  },
  {
   "cell_type": "markdown",
   "id": "eab147a8",
   "metadata": {},
   "source": [
    "###  Top Songs - Global Playlist\n",
    "\n",
    "I am interested in what songs are the most popular globally, so I focused on the \"Top Songs - Global\" playlist which is curated by Spotify already. "
   ]
  },
  {
   "cell_type": "code",
   "execution_count": 7,
   "id": "c0bd0be1",
   "metadata": {},
   "outputs": [],
   "source": [
    "playlist_link = \"https://open.spotify.com/playlist/37i9dQZEVXbNG2KDcFcKOF?si=1333723a6eff4b7f\"\n",
    "playlist_URI = playlist_link.split(\"/\")[-1].split(\"?\")[0]\n",
    "track_uris = [x[\"track\"][\"uri\"] for x in sp.playlist_tracks(playlist_URI)[\"items\"]]"
   ]
  },
  {
   "cell_type": "code",
   "execution_count": 3,
   "id": "e660c3af",
   "metadata": {},
   "outputs": [],
   "source": [
    "artist_name = []\n",
    "track_name = []\n",
    "popularity = []\n",
    "track_id = []\n",
    "artist_uri = []\n",
    "artist_info = []\n",
    "artist_pop = []\n",
    "artist_genres = []\n",
    "\n",
    "\n",
    "\n",
    "for track in sp.playlist_tracks(playlist_URI)['items']:\n",
    "  #Track id\n",
    "  track_id.append(track['track']['id'])\n",
    "    \n",
    "  #Track name\n",
    "  track_name.append(track[\"track\"][\"name\"])\n",
    "    \n",
    "  #Artist\n",
    "  artist_uri = track[\"track\"][\"artists\"][0][\"uri\"]\n",
    "  artist_info = sp.artist(artist_uri)\n",
    "    \n",
    "  #Name, popularity, genre\n",
    "  artist_name.append(track[\"track\"][\"artists\"][0][\"name\"])\n",
    "  artist_pop.append(artist_info[\"popularity\"])\n",
    "  artist_genres.append(artist_info[\"genres\"])\n",
    "\n",
    "  #Popularity of the track\n",
    "  popularity.append(track[\"track\"][\"popularity\"])\n",
    "  "
   ]
  },
  {
   "cell_type": "code",
   "execution_count": 4,
   "id": "f5e612ef",
   "metadata": {},
   "outputs": [],
   "source": [
    "import pandas as pd\n",
    "\n",
    "audio = sp.audio_features(track_id)\n",
    "audio_df = pd.DataFrame(sp.audio_features(track_id))\n",
    "audio_df = audio_df[['acousticness','danceability','energy','instrumentalness','loudness','speechiness','tempo','valence']]\n"
   ]
  },
  {
   "cell_type": "markdown",
   "id": "36dca72c",
   "metadata": {},
   "source": [
    "I have gathered the important data needed, which includes **artist name, track name, track id, track popularity, artist popularity, artist genre, acousticness, danceability, energy, instrumentalness, loudness, speechiness, tempo, and valence**. After gathering specific information, I put it together in a dataframe.\n",
    "\n",
    "#### Audio Features\n",
    "\n",
    "- **Acousticness** represents how acoustic a track is. High confidence a track is acoustic is indicated by 1.0.\n",
    "\n",
    "- **Danceability** indicates how suitable a track is for dancing based on tempo, beat, strength, and other features. 1.0 is most danceable.\n",
    "\n",
    "- **Energy** represents the perceived measure of intensity and activity, with high energy track feeling fast and loud.\n",
    "\n",
    "- **Instrumentalness** indicates whether a track contains mostly instrumentals with no vocals. The higher the value is, the greater likelihood the track has no vocals.\n",
    "\n",
    "- **Speechiness** is determined by the presence of spoken words. High values represent tracks with mostly spoken words, for example, rap.\n",
    "\n",
    "- **Tempo** is the estimated BPM (beats per minute) of a track. High BPM indicates faster speed. \n",
    "\n",
    "- **Valence** describes the positiveness of a track. High valence tracks sound happy and low valence tracks sound sad. "
   ]
  },
  {
   "cell_type": "code",
   "execution_count": 5,
   "id": "6cc23724",
   "metadata": {},
   "outputs": [],
   "source": [
    "top50_df = pd.DataFrame({'artist_name' : artist_name,\n",
    "                        'track_name' : track_name,\n",
    "                        'track_id' : track_id,\n",
    "                        'track popularity': popularity,\n",
    "                        'artist popularity': artist_pop,\n",
    "                        'artist genre': artist_genres,\n",
    "                        'acousticness': list(audio_df['acousticness']),\n",
    "                        'danceability': list(audio_df['danceability']),\n",
    "                        'energy': list(audio_df['energy']),\n",
    "                        'instrumentalness':  list(audio_df['instrumentalness']),\n",
    "                        'loudness': list(audio_df['loudness']),\n",
    "                        'speechiness': list(audio_df['speechiness']),\n",
    "                        'tempo': list(audio_df['tempo']),\n",
    "                        'valence': list(audio_df['valence'])})"
   ]
  },
  {
   "cell_type": "code",
   "execution_count": 10,
   "id": "638d3bbf",
   "metadata": {},
   "outputs": [
    {
     "data": {
      "text/html": [
       "<div>\n",
       "<style scoped>\n",
       "    .dataframe tbody tr th:only-of-type {\n",
       "        vertical-align: middle;\n",
       "    }\n",
       "\n",
       "    .dataframe tbody tr th {\n",
       "        vertical-align: top;\n",
       "    }\n",
       "\n",
       "    .dataframe thead th {\n",
       "        text-align: right;\n",
       "    }\n",
       "</style>\n",
       "<table border=\"1\" class=\"dataframe\">\n",
       "  <thead>\n",
       "    <tr style=\"text-align: right;\">\n",
       "      <th></th>\n",
       "      <th>artist_name</th>\n",
       "      <th>track_name</th>\n",
       "      <th>track_id</th>\n",
       "      <th>track popularity</th>\n",
       "      <th>artist popularity</th>\n",
       "      <th>artist genre</th>\n",
       "      <th>acousticness</th>\n",
       "      <th>danceability</th>\n",
       "      <th>energy</th>\n",
       "      <th>instrumentalness</th>\n",
       "      <th>loudness</th>\n",
       "      <th>speechiness</th>\n",
       "      <th>tempo</th>\n",
       "      <th>valence</th>\n",
       "    </tr>\n",
       "  </thead>\n",
       "  <tbody>\n",
       "    <tr>\n",
       "      <th>0</th>\n",
       "      <td>KAROL G</td>\n",
       "      <td>TQG</td>\n",
       "      <td>0DWdj2oZMBFSzRsi2Cvfzf</td>\n",
       "      <td>93</td>\n",
       "      <td>94</td>\n",
       "      <td>[reggaeton, reggaeton colombiano, urbano latino]</td>\n",
       "      <td>0.6730</td>\n",
       "      <td>0.720</td>\n",
       "      <td>0.630</td>\n",
       "      <td>0.000000</td>\n",
       "      <td>-3.547</td>\n",
       "      <td>0.2770</td>\n",
       "      <td>179.974</td>\n",
       "      <td>0.607</td>\n",
       "    </tr>\n",
       "    <tr>\n",
       "      <th>1</th>\n",
       "      <td>The Weeknd</td>\n",
       "      <td>Die For You - Remix</td>\n",
       "      <td>7oDd86yk8itslrA9HRP2ki</td>\n",
       "      <td>93</td>\n",
       "      <td>99</td>\n",
       "      <td>[canadian contemporary r&amp;b, canadian pop, pop]</td>\n",
       "      <td>0.2320</td>\n",
       "      <td>0.531</td>\n",
       "      <td>0.525</td>\n",
       "      <td>0.000000</td>\n",
       "      <td>-6.500</td>\n",
       "      <td>0.0671</td>\n",
       "      <td>66.900</td>\n",
       "      <td>0.502</td>\n",
       "    </tr>\n",
       "    <tr>\n",
       "      <th>2</th>\n",
       "      <td>Miley Cyrus</td>\n",
       "      <td>Flowers</td>\n",
       "      <td>0yLdNVWF3Srea0uzk55zFn</td>\n",
       "      <td>100</td>\n",
       "      <td>92</td>\n",
       "      <td>[pop]</td>\n",
       "      <td>0.0632</td>\n",
       "      <td>0.707</td>\n",
       "      <td>0.681</td>\n",
       "      <td>0.000005</td>\n",
       "      <td>-4.325</td>\n",
       "      <td>0.0668</td>\n",
       "      <td>117.999</td>\n",
       "      <td>0.646</td>\n",
       "    </tr>\n",
       "    <tr>\n",
       "      <th>3</th>\n",
       "      <td>SZA</td>\n",
       "      <td>Kill Bill</td>\n",
       "      <td>1Qrg8KqiBpW07V7PNxwwwL</td>\n",
       "      <td>93</td>\n",
       "      <td>95</td>\n",
       "      <td>[pop, r&amp;b]</td>\n",
       "      <td>0.0521</td>\n",
       "      <td>0.644</td>\n",
       "      <td>0.735</td>\n",
       "      <td>0.144000</td>\n",
       "      <td>-5.747</td>\n",
       "      <td>0.0391</td>\n",
       "      <td>88.980</td>\n",
       "      <td>0.418</td>\n",
       "    </tr>\n",
       "    <tr>\n",
       "      <th>4</th>\n",
       "      <td>PinkPantheress</td>\n",
       "      <td>Boy's a liar Pt. 2</td>\n",
       "      <td>6AQbmUe0Qwf5PZnt4HmTXv</td>\n",
       "      <td>94</td>\n",
       "      <td>86</td>\n",
       "      <td>[]</td>\n",
       "      <td>0.2520</td>\n",
       "      <td>0.696</td>\n",
       "      <td>0.809</td>\n",
       "      <td>0.000128</td>\n",
       "      <td>-8.254</td>\n",
       "      <td>0.0500</td>\n",
       "      <td>132.962</td>\n",
       "      <td>0.857</td>\n",
       "    </tr>\n",
       "  </tbody>\n",
       "</table>\n",
       "</div>"
      ],
      "text/plain": [
       "      artist_name           track_name                track_id  \\\n",
       "0         KAROL G                  TQG  0DWdj2oZMBFSzRsi2Cvfzf   \n",
       "1      The Weeknd  Die For You - Remix  7oDd86yk8itslrA9HRP2ki   \n",
       "2     Miley Cyrus              Flowers  0yLdNVWF3Srea0uzk55zFn   \n",
       "3             SZA            Kill Bill  1Qrg8KqiBpW07V7PNxwwwL   \n",
       "4  PinkPantheress   Boy's a liar Pt. 2  6AQbmUe0Qwf5PZnt4HmTXv   \n",
       "\n",
       "   track popularity  artist popularity  \\\n",
       "0                93                 94   \n",
       "1                93                 99   \n",
       "2               100                 92   \n",
       "3                93                 95   \n",
       "4                94                 86   \n",
       "\n",
       "                                       artist genre  acousticness  \\\n",
       "0  [reggaeton, reggaeton colombiano, urbano latino]        0.6730   \n",
       "1    [canadian contemporary r&b, canadian pop, pop]        0.2320   \n",
       "2                                             [pop]        0.0632   \n",
       "3                                        [pop, r&b]        0.0521   \n",
       "4                                                []        0.2520   \n",
       "\n",
       "   danceability  energy  instrumentalness  loudness  speechiness    tempo  \\\n",
       "0         0.720   0.630          0.000000    -3.547       0.2770  179.974   \n",
       "1         0.531   0.525          0.000000    -6.500       0.0671   66.900   \n",
       "2         0.707   0.681          0.000005    -4.325       0.0668  117.999   \n",
       "3         0.644   0.735          0.144000    -5.747       0.0391   88.980   \n",
       "4         0.696   0.809          0.000128    -8.254       0.0500  132.962   \n",
       "\n",
       "   valence  \n",
       "0    0.607  \n",
       "1    0.502  \n",
       "2    0.646  \n",
       "3    0.418  \n",
       "4    0.857  "
      ]
     },
     "execution_count": 10,
     "metadata": {},
     "output_type": "execute_result"
    }
   ],
   "source": [
    "top50_df.head()"
   ]
  },
  {
   "cell_type": "code",
   "execution_count": 8,
   "id": "fbb3f47f",
   "metadata": {},
   "outputs": [
    {
     "data": {
      "text/html": [
       "<div>\n",
       "<style scoped>\n",
       "    .dataframe tbody tr th:only-of-type {\n",
       "        vertical-align: middle;\n",
       "    }\n",
       "\n",
       "    .dataframe tbody tr th {\n",
       "        vertical-align: top;\n",
       "    }\n",
       "\n",
       "    .dataframe thead th {\n",
       "        text-align: right;\n",
       "    }\n",
       "</style>\n",
       "<table border=\"1\" class=\"dataframe\">\n",
       "  <thead>\n",
       "    <tr style=\"text-align: right;\">\n",
       "      <th></th>\n",
       "      <th>track popularity</th>\n",
       "      <th>artist popularity</th>\n",
       "      <th>acousticness</th>\n",
       "      <th>danceability</th>\n",
       "      <th>energy</th>\n",
       "      <th>instrumentalness</th>\n",
       "      <th>loudness</th>\n",
       "      <th>speechiness</th>\n",
       "      <th>tempo</th>\n",
       "      <th>valence</th>\n",
       "    </tr>\n",
       "  </thead>\n",
       "  <tbody>\n",
       "    <tr>\n",
       "      <th>count</th>\n",
       "      <td>50.000000</td>\n",
       "      <td>50.000000</td>\n",
       "      <td>50.000000</td>\n",
       "      <td>50.000000</td>\n",
       "      <td>50.000000</td>\n",
       "      <td>50.000000</td>\n",
       "      <td>50.000000</td>\n",
       "      <td>50.000000</td>\n",
       "      <td>50.000000</td>\n",
       "      <td>50.000000</td>\n",
       "    </tr>\n",
       "    <tr>\n",
       "      <th>mean</th>\n",
       "      <td>87.160000</td>\n",
       "      <td>89.040000</td>\n",
       "      <td>0.235176</td>\n",
       "      <td>0.677320</td>\n",
       "      <td>0.652800</td>\n",
       "      <td>0.020879</td>\n",
       "      <td>-6.087180</td>\n",
       "      <td>0.093092</td>\n",
       "      <td>124.852020</td>\n",
       "      <td>0.493070</td>\n",
       "    </tr>\n",
       "    <tr>\n",
       "      <th>std</th>\n",
       "      <td>8.462064</td>\n",
       "      <td>6.449047</td>\n",
       "      <td>0.216901</td>\n",
       "      <td>0.132686</td>\n",
       "      <td>0.139459</td>\n",
       "      <td>0.098529</td>\n",
       "      <td>2.186116</td>\n",
       "      <td>0.079960</td>\n",
       "      <td>32.138261</td>\n",
       "      <td>0.226829</td>\n",
       "    </tr>\n",
       "    <tr>\n",
       "      <th>min</th>\n",
       "      <td>46.000000</td>\n",
       "      <td>74.000000</td>\n",
       "      <td>0.001460</td>\n",
       "      <td>0.442000</td>\n",
       "      <td>0.234000</td>\n",
       "      <td>0.000000</td>\n",
       "      <td>-14.520000</td>\n",
       "      <td>0.025400</td>\n",
       "      <td>66.900000</td>\n",
       "      <td>0.038500</td>\n",
       "    </tr>\n",
       "    <tr>\n",
       "      <th>25%</th>\n",
       "      <td>86.000000</td>\n",
       "      <td>85.250000</td>\n",
       "      <td>0.063275</td>\n",
       "      <td>0.559500</td>\n",
       "      <td>0.556500</td>\n",
       "      <td>0.000000</td>\n",
       "      <td>-6.939500</td>\n",
       "      <td>0.043475</td>\n",
       "      <td>96.332250</td>\n",
       "      <td>0.305500</td>\n",
       "    </tr>\n",
       "    <tr>\n",
       "      <th>50%</th>\n",
       "      <td>89.000000</td>\n",
       "      <td>89.000000</td>\n",
       "      <td>0.139500</td>\n",
       "      <td>0.687500</td>\n",
       "      <td>0.676500</td>\n",
       "      <td>0.000007</td>\n",
       "      <td>-5.673500</td>\n",
       "      <td>0.057200</td>\n",
       "      <td>125.968000</td>\n",
       "      <td>0.498000</td>\n",
       "    </tr>\n",
       "    <tr>\n",
       "      <th>75%</th>\n",
       "      <td>91.000000</td>\n",
       "      <td>94.000000</td>\n",
       "      <td>0.375750</td>\n",
       "      <td>0.781750</td>\n",
       "      <td>0.748000</td>\n",
       "      <td>0.000263</td>\n",
       "      <td>-4.892000</td>\n",
       "      <td>0.110250</td>\n",
       "      <td>142.261000</td>\n",
       "      <td>0.620250</td>\n",
       "    </tr>\n",
       "    <tr>\n",
       "      <th>max</th>\n",
       "      <td>100.000000</td>\n",
       "      <td>100.000000</td>\n",
       "      <td>0.777000</td>\n",
       "      <td>0.954000</td>\n",
       "      <td>0.965000</td>\n",
       "      <td>0.670000</td>\n",
       "      <td>-1.602000</td>\n",
       "      <td>0.326000</td>\n",
       "      <td>203.759000</td>\n",
       "      <td>0.962000</td>\n",
       "    </tr>\n",
       "  </tbody>\n",
       "</table>\n",
       "</div>"
      ],
      "text/plain": [
       "       track popularity  artist popularity  acousticness  danceability  \\\n",
       "count         50.000000          50.000000     50.000000     50.000000   \n",
       "mean          87.160000          89.040000      0.235176      0.677320   \n",
       "std            8.462064           6.449047      0.216901      0.132686   \n",
       "min           46.000000          74.000000      0.001460      0.442000   \n",
       "25%           86.000000          85.250000      0.063275      0.559500   \n",
       "50%           89.000000          89.000000      0.139500      0.687500   \n",
       "75%           91.000000          94.000000      0.375750      0.781750   \n",
       "max          100.000000         100.000000      0.777000      0.954000   \n",
       "\n",
       "          energy  instrumentalness   loudness  speechiness       tempo  \\\n",
       "count  50.000000         50.000000  50.000000    50.000000   50.000000   \n",
       "mean    0.652800          0.020879  -6.087180     0.093092  124.852020   \n",
       "std     0.139459          0.098529   2.186116     0.079960   32.138261   \n",
       "min     0.234000          0.000000 -14.520000     0.025400   66.900000   \n",
       "25%     0.556500          0.000000  -6.939500     0.043475   96.332250   \n",
       "50%     0.676500          0.000007  -5.673500     0.057200  125.968000   \n",
       "75%     0.748000          0.000263  -4.892000     0.110250  142.261000   \n",
       "max     0.965000          0.670000  -1.602000     0.326000  203.759000   \n",
       "\n",
       "         valence  \n",
       "count  50.000000  \n",
       "mean    0.493070  \n",
       "std     0.226829  \n",
       "min     0.038500  \n",
       "25%     0.305500  \n",
       "50%     0.498000  \n",
       "75%     0.620250  \n",
       "max     0.962000  "
      ]
     },
     "execution_count": 8,
     "metadata": {},
     "output_type": "execute_result"
    }
   ],
   "source": [
    "top50_df.describe()"
   ]
  },
  {
   "cell_type": "code",
   "execution_count": 40,
   "id": "7a5fb0ab",
   "metadata": {},
   "outputs": [
    {
     "data": {
      "text/plain": [
       "<AxesSubplot: ylabel='artist_name'>"
      ]
     },
     "execution_count": 40,
     "metadata": {},
     "output_type": "execute_result"
    },
    {
     "data": {
      "image/png": "[encoded data removed]",
      "text/plain": [
       "<Figure size 640x480 with 1 Axes>"
      ]
     },
     "metadata": {},
     "output_type": "display_data"
    }
   ],
   "source": [
    "top50_df.sort_values(by = 'track popularity')[-10:].plot.barh(x = 'artist_name', y = 'artist popularity')"
   ]
  },
  {
   "cell_type": "code",
   "execution_count": 32,
   "id": "788d5a5a",
   "metadata": {},
   "outputs": [
    {
     "data": {
      "text/plain": [
       "<AxesSubplot: xlabel='track popularity', ylabel='valence'>"
      ]
     },
     "execution_count": 32,
     "metadata": {},
     "output_type": "execute_result"
    },
    {
     "data": {
      "image/png": "[encoded data removed]",
      "text/plain": [
       "<Figure size 640x480 with 1 Axes>"
      ]
     },
     "metadata": {},
     "output_type": "display_data"
    }
   ],
   "source": [
    "top50_df.sort_values(by = 'track popularity')[-10:].plot(y = 'valence', x = 'track popularity', kind = \"scatter\")"
   ]
  },
  {
   "cell_type": "code",
   "execution_count": 30,
   "id": "a47940f4",
   "metadata": {},
   "outputs": [
    {
     "data": {
      "text/plain": [
       "<AxesSubplot: ylabel='Frequency'>"
      ]
     },
     "execution_count": 30,
     "metadata": {},
     "output_type": "execute_result"
    },
    {
     "data": {
      "image/png": "[encoded data removed]",
      "text/plain": [
       "<Figure size 640x480 with 1 Axes>"
      ]
     },
     "metadata": {},
     "output_type": "display_data"
    }
   ],
   "source": [
    "top50_df.plot(y = 'energy', kind = 'hist')"
   ]
  },
  {
   "cell_type": "code",
   "execution_count": 41,
   "id": "99140a1b",
   "metadata": {},
   "outputs": [
    {
     "data": {
      "text/plain": [
       "count    50.000000\n",
       "mean      0.652800\n",
       "std       0.139459\n",
       "min       0.234000\n",
       "25%       0.556500\n",
       "50%       0.676500\n",
       "75%       0.748000\n",
       "max       0.965000\n",
       "Name: energy, dtype: float64"
      ]
     },
     "execution_count": 41,
     "metadata": {},
     "output_type": "execute_result"
    }
   ],
   "source": [
    "top50_df['energy'].describe()"
   ]
  },
  {
   "cell_type": "code",
   "execution_count": 43,
   "id": "682b1805",
   "metadata": {},
   "outputs": [
    {
     "data": {
      "text/plain": [
       "<AxesSubplot: ylabel='track_name'>"
      ]
     },
     "execution_count": 43,
     "metadata": {},
     "output_type": "execute_result"
    },
    {
     "data": {
      "image/png": "[encoded data removed]",
      "text/plain": [
       "<Figure size 640x480 with 1 Axes>"
      ]
     },
     "metadata": {},
     "output_type": "display_data"
    }
   ],
   "source": [
    "top50_df.sort_values(by = 'track popularity')[-10:].plot.barh(x = 'track_name', y = 'danceability')"
   ]
  },
  {
   "cell_type": "code",
   "execution_count": null,
   "id": "ee089e97",
   "metadata": {},
   "outputs": [],
   "source": []
  }
 ],
 "metadata": {
  "kernelspec": {
   "display_name": "Python 3 (ipykernel)",
   "language": "python",
   "name": "python3"
  },
  "language_info": {
   "codemirror_mode": {
    "name": "ipython",
    "version": 3
   },
   "file_extension": ".py",
   "mimetype": "text/x-python",
   "name": "python",
   "nbconvert_exporter": "python",
   "pygments_lexer": "ipython3",
   "version": "3.10.8"
  }
 },
 "nbformat": 4,
 "nbformat_minor": 5
}
